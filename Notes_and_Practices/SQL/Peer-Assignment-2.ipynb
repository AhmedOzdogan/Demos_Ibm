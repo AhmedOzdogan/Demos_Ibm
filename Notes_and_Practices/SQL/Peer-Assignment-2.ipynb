{
 "cells": [
  {
   "cell_type": "code",
   "execution_count": 2,
   "id": "db2a0490-347e-4cc5-9f55-58f07bed1b78",
   "metadata": {},
   "outputs": [],
   "source": [
    "%load_ext sql"
   ]
  },
  {
   "cell_type": "code",
   "execution_count": 3,
   "id": "1c2cd158-eee9-4381-a3f6-9ff8ba5c6b16",
   "metadata": {},
   "outputs": [
    {
     "data": {
      "text/plain": [
       "'Connected: qjm38282@BLUDB'"
      ]
     },
     "execution_count": 3,
     "metadata": {},
     "output_type": "execute_result"
    }
   ],
   "source": [
    "# Remember the connection string is of the format:\n",
    "# %sql ibm_db_sa://my-username:my-password@my-hostname:my-port/my-db-name?security=SSL\n",
    "# Enter the connection string for your Db2 on Cloud database instance below\n",
    "%sql ibm_db_sa://qjm38282:jPWXpFzlmF3Y6yXG@54a2f15b-5c0f-46df-8954-7e38e612c2bd.c1ogj3sd0tgtu0lqde00.databases.appdomain.cloud:32733/BLUDB?security=SSL"
   ]
  },
  {
   "cell_type": "code",
   "execution_count": 4,
   "id": "4cf1d5aa-bae4-4359-a558-7a26fa0f6497",
   "metadata": {},
   "outputs": [
    {
     "name": "stdout",
     "output_type": "stream",
     "text": [
      " * ibm_db_sa://qjm38282:***@54a2f15b-5c0f-46df-8954-7e38e612c2bd.c1ogj3sd0tgtu0lqde00.databases.appdomain.cloud:32733/BLUDB\n",
      "Done.\n"
     ]
    },
    {
     "data": {
      "text/html": [
       "<table>\n",
       "    <thead>\n",
       "        <tr>\n",
       "            <th>name_of_school</th>\n",
       "            <th>community_area_name</th>\n",
       "            <th>average_student_attendance</th>\n",
       "        </tr>\n",
       "    </thead>\n",
       "    <tbody>\n",
       "        <tr>\n",
       "            <td>George Washington Carver Military Academy High School</td>\n",
       "            <td>RIVERDALE</td>\n",
       "            <td>91.60%</td>\n",
       "        </tr>\n",
       "        <tr>\n",
       "            <td>George Washington Carver Primary School</td>\n",
       "            <td>RIVERDALE</td>\n",
       "            <td>90.90%</td>\n",
       "        </tr>\n",
       "        <tr>\n",
       "            <td>Ira F Aldridge Elementary School</td>\n",
       "            <td>RIVERDALE</td>\n",
       "            <td>92.90%</td>\n",
       "        </tr>\n",
       "        <tr>\n",
       "            <td>William E B Dubois Elementary School</td>\n",
       "            <td>RIVERDALE</td>\n",
       "            <td>93.30%</td>\n",
       "        </tr>\n",
       "    </tbody>\n",
       "</table>"
      ],
      "text/plain": [
       "[('George Washington Carver Military Academy High School', 'RIVERDALE', '91.60%'),\n",
       " ('George Washington Carver Primary School', 'RIVERDALE', '90.90%'),\n",
       " ('Ira F Aldridge Elementary School', 'RIVERDALE', '92.90%'),\n",
       " ('William E B Dubois Elementary School', 'RIVERDALE', '93.30%')]"
      ]
     },
     "execution_count": 4,
     "metadata": {},
     "output_type": "execute_result"
    }
   ],
   "source": [
    "%%sql\n",
    "\n",
    "SELECT A.NAME_OF_SCHOOL,A.COMMUNITY_AREA_NAME,A.AVERAGE_STUDENT_ATTENDANCE FROM CHICAGO_PUBLIC_SCHOOLS A JOIN CHICAGO_SOCIOECONOMIC_DATA B \n",
    "ON A.COMMUNITY_AREA_NUMBER = B.CA WHERE B.HARDSHIP_INDEX = 98"
   ]
  },
  {
   "cell_type": "code",
   "execution_count": 5,
   "id": "5bdb47bf-b56c-4785-bcb0-eb43606ae788",
   "metadata": {},
   "outputs": [
    {
     "name": "stdout",
     "output_type": "stream",
     "text": [
      " * ibm_db_sa://qjm38282:***@54a2f15b-5c0f-46df-8954-7e38e612c2bd.c1ogj3sd0tgtu0lqde00.databases.appdomain.cloud:32733/BLUDB\n",
      "Done.\n"
     ]
    },
    {
     "data": {
      "text/html": [
       "<table>\n",
       "    <thead>\n",
       "        <tr>\n",
       "            <th>case_number</th>\n",
       "            <th>primary_type</th>\n",
       "            <th>community_area_name</th>\n",
       "        </tr>\n",
       "    </thead>\n",
       "    <tbody>\n",
       "        <tr>\n",
       "            <td>HK577020</td>\n",
       "            <td>NARCOTICS</td>\n",
       "            <td>Rogers Park</td>\n",
       "        </tr>\n",
       "        <tr>\n",
       "            <td>HL725506</td>\n",
       "            <td>BATTERY</td>\n",
       "            <td>Lincoln Square</td>\n",
       "        </tr>\n",
       "        <tr>\n",
       "            <td>HH639427</td>\n",
       "            <td>BATTERY</td>\n",
       "            <td>Austin</td>\n",
       "        </tr>\n",
       "        <tr>\n",
       "            <td>HS200939</td>\n",
       "            <td>CRIMINAL DAMAGE</td>\n",
       "            <td>Austin</td>\n",
       "        </tr>\n",
       "        <tr>\n",
       "            <td>HT315369</td>\n",
       "            <td>ASSAULT</td>\n",
       "            <td>East Garfield Park</td>\n",
       "        </tr>\n",
       "        <tr>\n",
       "            <td>HP716225</td>\n",
       "            <td>BATTERY</td>\n",
       "            <td>Douglas</td>\n",
       "        </tr>\n",
       "        <tr>\n",
       "            <td>HL353697</td>\n",
       "            <td>BATTERY</td>\n",
       "            <td>South Shore</td>\n",
       "        </tr>\n",
       "        <tr>\n",
       "            <td>HS305355</td>\n",
       "            <td>NARCOTICS</td>\n",
       "            <td>Brighton Park</td>\n",
       "        </tr>\n",
       "        <tr>\n",
       "            <td>JA460432</td>\n",
       "            <td>BATTERY</td>\n",
       "            <td>Ashburn</td>\n",
       "        </tr>\n",
       "        <tr>\n",
       "            <td>HR585012</td>\n",
       "            <td>CRIMINAL TRESPA</td>\n",
       "            <td>Ashburn</td>\n",
       "        </tr>\n",
       "    </tbody>\n",
       "</table>"
      ],
      "text/plain": [
       "[('HK577020', 'NARCOTICS', 'Rogers Park'),\n",
       " ('HL725506', 'BATTERY', 'Lincoln Square'),\n",
       " ('HH639427', 'BATTERY', 'Austin'),\n",
       " ('HS200939', 'CRIMINAL DAMAGE', 'Austin'),\n",
       " ('HT315369', 'ASSAULT', 'East Garfield Park'),\n",
       " ('HP716225', 'BATTERY', 'Douglas'),\n",
       " ('HL353697', 'BATTERY', 'South Shore'),\n",
       " ('HS305355', 'NARCOTICS', 'Brighton Park'),\n",
       " ('JA460432', 'BATTERY', 'Ashburn'),\n",
       " ('HR585012', 'CRIMINAL TRESPA', 'Ashburn')]"
      ]
     },
     "execution_count": 5,
     "metadata": {},
     "output_type": "execute_result"
    }
   ],
   "source": [
    "%%sql\n",
    "\n",
    "SELECT A.CASE_NUMBER,A.PRIMARY_TYPE,B.COMMUNITY_AREA_NAME \n",
    "FROM CRIME_DATA A JOIN CHICAGO_SOCIOECONOMIC_DATA B\n",
    "ON A.COMMUNITY_AREA_NUMBER = B.CA\n",
    "WHERE A.LOCATION_DESCRIPTION lIKE '%SCHOOL%'"
   ]
  },
  {
   "cell_type": "code",
   "execution_count": 28,
   "id": "25f79cfa-5859-48ef-9c33-fb0765423d9a",
   "metadata": {},
   "outputs": [
    {
     "name": "stdout",
     "output_type": "stream",
     "text": [
      " * ibm_db_sa://qjm38282:***@54a2f15b-5c0f-46df-8954-7e38e612c2bd.c1ogj3sd0tgtu0lqde00.databases.appdomain.cloud:32733/BLUDB\n",
      "Done.\n"
     ]
    },
    {
     "data": {
      "text/plain": [
       "[]"
      ]
     },
     "execution_count": 28,
     "metadata": {},
     "output_type": "execute_result"
    }
   ],
   "source": [
    "%%sql\n",
    "\n",
    "CREATE OR REPLACE VIEW NEW AS\n",
    "SELECT NAME_OF_SCHOOL,LEADERS_ICON\n",
    "FROM CHICAGO_PUBLIC_SCHOOLS\n"
   ]
  },
  {
   "cell_type": "code",
   "execution_count": 7,
   "id": "459fb14f-fedd-468e-93ec-56b47aa2e48b",
   "metadata": {},
   "outputs": [
    {
     "name": "stdout",
     "output_type": "stream",
     "text": [
      " * ibm_db_sa://qjm38282:***@54a2f15b-5c0f-46df-8954-7e38e612c2bd.c1ogj3sd0tgtu0lqde00.databases.appdomain.cloud:32733/BLUDB\n",
      "Done.\n"
     ]
    },
    {
     "data": {
      "text/html": [
       "<table>\n",
       "    <thead>\n",
       "        <tr>\n",
       "            <th>name_of_school</th>\n",
       "            <th>leaders_icon</th>\n",
       "        </tr>\n",
       "    </thead>\n",
       "    <tbody>\n",
       "        <tr>\n",
       "            <td>Abraham Lincoln Elementary School</td>\n",
       "            <td>Weak</td>\n",
       "        </tr>\n",
       "        <tr>\n",
       "            <td>Adam Clayton Powell Paideia Community Academy Elementary School</td>\n",
       "            <td>Weak</td>\n",
       "        </tr>\n",
       "        <tr>\n",
       "            <td>Adlai E Stevenson Elementary School</td>\n",
       "            <td>Weak</td>\n",
       "        </tr>\n",
       "        <tr>\n",
       "            <td>Agustin Lara Elementary Academy</td>\n",
       "            <td>Weak</td>\n",
       "        </tr>\n",
       "        <tr>\n",
       "            <td>Air Force Academy High School</td>\n",
       "            <td>Weak</td>\n",
       "        </tr>\n",
       "    </tbody>\n",
       "</table>"
      ],
      "text/plain": [
       "[('Abraham Lincoln Elementary School', 'Weak'),\n",
       " ('Adam Clayton Powell Paideia Community Academy Elementary School', 'Weak'),\n",
       " ('Adlai E Stevenson Elementary School', 'Weak'),\n",
       " ('Agustin Lara Elementary Academy', 'Weak'),\n",
       " ('Air Force Academy High School', 'Weak')]"
      ]
     },
     "execution_count": 7,
     "metadata": {},
     "output_type": "execute_result"
    }
   ],
   "source": [
    "%%sql\n",
    "\n",
    "SELECT * FROM NEW LIMIT 5"
   ]
  },
  {
   "cell_type": "code",
   "execution_count": 21,
   "id": "87265200-43be-47d4-9388-1d3072131db6",
   "metadata": {},
   "outputs": [
    {
     "name": "stdout",
     "output_type": "stream",
     "text": [
      " * ibm_db_sa://qjm38282:***@54a2f15b-5c0f-46df-8954-7e38e612c2bd.c1ogj3sd0tgtu0lqde00.databases.appdomain.cloud:32733/BLUDB\n",
      "Done.\n"
     ]
    },
    {
     "data": {
      "text/plain": [
       "[]"
      ]
     },
     "execution_count": 21,
     "metadata": {},
     "output_type": "execute_result"
    }
   ],
   "source": [
    "%%sql\n",
    "\n",
    "--#SET TERMINATOR @\n",
    "CREATE PROCEDURE UPDATE_LEADERS_SCORE (\n",
    "    IN in_School_ID  INTEGER, IN in_Leader_Score INTEGER) \n",
    "    \n",
    "LANGUAGE SQL \n",
    "MODIFIES SQL DATA\n",
    "\n",
    "BEGIN\n",
    "    UPDATE \"CHICAGO_PUBLIC_SCHOOLS\"\n",
    "    SET \"LEADERS_SCORE\" = in_Leader_Score\n",
    "    WHERE \"SCHOOL_ID\" = in_School_ID;\n",
    "\n",
    "    IF in_Leader_Score >=  80 THEN \n",
    "        UPDATE \"CHICAGO_PUBLIC_SCHOOLS\"\n",
    "        SET \"LEADERS_ICON\" = 'Very_Strong'\n",
    "        WHERE \"SCHOOL_ID\" = in_School_ID;\n",
    "\n",
    "    ELSEIF in_Leader_Score>= 60 and in_Leader_Score <= 79  THEN\n",
    "        UPDATE \"CHICAGO_PUBLIC_SCHOOLS\"\n",
    "        SET \"LEADERS_ICON\" = 'Strong'\n",
    "        WHERE \"SCHOOL_ID\" = in_School_ID;\n",
    "\n",
    "    ELSEIF in_Leader_Score >=  40 and in_Leader_Score <= 59  THEN\n",
    "        UPDATE \"CHICAGO_PUBLIC_SCHOOLS\"\n",
    "        SET \"LEADERS_ICON\" = 'Average'\n",
    "        WHERE \"SCHOOL_ID\" = in_School_ID;\n",
    "\n",
    "    ELSEIF in_Leader_Score >=  20 and in_Leader_Score <= 39  THEN\n",
    "        UPDATE \"CHICAGO_PUBLIC_SCHOOLS\"\n",
    "        SET \"LEADERS_ICON\" = 'Weak'\n",
    "        WHERE \"SCHOOL_ID\" = in_School_ID;\n",
    "\n",
    "    ELSE\n",
    "        UPDATE \"CHICAGO_PUBLIC_SCHOOLS\"\n",
    "        SET \"LEADERS_ICON\" = 'Very Weak'\n",
    "        WHERE \"SCHOOL_ID\" = in_School_ID;\n",
    "\n",
    "    END IF;\n",
    "END \n"
   ]
  },
  {
   "cell_type": "code",
   "execution_count": 25,
   "id": "0ec643d3-3cf7-4a1f-ac4a-ba2850208a08",
   "metadata": {},
   "outputs": [
    {
     "name": "stdout",
     "output_type": "stream",
     "text": [
      " * ibm_db_sa://qjm38282:***@54a2f15b-5c0f-46df-8954-7e38e612c2bd.c1ogj3sd0tgtu0lqde00.databases.appdomain.cloud:32733/BLUDB\n",
      "Done.\n"
     ]
    },
    {
     "data": {
      "text/plain": [
       "[]"
      ]
     },
     "execution_count": 25,
     "metadata": {},
     "output_type": "execute_result"
    }
   ],
   "source": [
    "%%sql\n",
    "\n",
    "--#SET TERMINATOR @\n",
    "CREATE OR REPLACE PROCEDURE UPDATE_LEADERS_SCORE (\n",
    "    IN in_School_ID  INTEGER, IN in_Leader_Score INTEGER) \n",
    "    \n",
    "LANGUAGE SQL \n",
    "MODIFIES SQL DATA\n",
    "\n",
    "BEGIN\n",
    "    UPDATE \"CHICAGO_PUBLIC_SCHOOLS\"\n",
    "    SET \"LEADERS_SCORE\" = in_Leader_Score\n",
    "    WHERE \"SCHOOL_ID\" = in_School_ID;\n",
    "\n",
    "    IF in_Leader_Score >=  80 THEN \n",
    "        UPDATE \"CHICAGO_PUBLIC_SCHOOLS\"\n",
    "        SET \"LEADERS_ICON\" = 'Very_Strong'\n",
    "        WHERE \"SCHOOL_ID\" = in_School_ID;\n",
    "\n",
    "    ELSEIF in_Leader_Score>= 60 and in_Leader_Score <= 79  THEN\n",
    "        UPDATE \"CHICAGO_PUBLIC_SCHOOLS\"\n",
    "        SET \"LEADERS_ICON\" = 'Strong'\n",
    "        WHERE \"SCHOOL_ID\" = in_School_ID;\n",
    "\n",
    "    ELSEIF in_Leader_Score >=  40 and in_Leader_Score <= 59  THEN\n",
    "        UPDATE \"CHICAGO_PUBLIC_SCHOOLS\"\n",
    "        SET \"LEADERS_ICON\" = 'Average'\n",
    "        WHERE \"SCHOOL_ID\" = in_School_ID;\n",
    "\n",
    "    ELSEIF in_Leader_Score >=  20 and in_Leader_Score <= 39  THEN\n",
    "        UPDATE \"CHICAGO_PUBLIC_SCHOOLS\"\n",
    "        SET \"LEADERS_ICON\" = 'Weak'\n",
    "        WHERE \"SCHOOL_ID\" = in_School_ID;\n",
    "\n",
    "    ELSEIF in_Leader_Score <=  20 THEN\n",
    "        UPDATE \"CHICAGO_PUBLIC_SCHOOLS\"\n",
    "        SET \"LEADERS_ICON\" = 'Very Weak'\n",
    "        WHERE \"SCHOOL_ID\" = in_School_ID;\n",
    "    ELSE\n",
    "    \n",
    "        ROLLBACK WORK;\n",
    "    \n",
    "    END IF;\n",
    "END \n"
   ]
  },
  {
   "cell_type": "code",
   "execution_count": 27,
   "id": "52a7b4df-dc7a-4129-9f32-e45ee9e703bf",
   "metadata": {},
   "outputs": [
    {
     "name": "stdout",
     "output_type": "stream",
     "text": [
      " * ibm_db_sa://qjm38282:***@54a2f15b-5c0f-46df-8954-7e38e612c2bd.c1ogj3sd0tgtu0lqde00.databases.appdomain.cloud:32733/BLUDB\n",
      "Done.\n"
     ]
    },
    {
     "data": {
      "text/plain": [
       "[]"
      ]
     },
     "execution_count": 27,
     "metadata": {},
     "output_type": "execute_result"
    }
   ],
   "source": [
    "%%sql\n",
    "\n",
    "--#SET TERMINATOR @\n",
    "CREATE OR REPLACE PROCEDURE UPDATE_LEADERS_SCORE (\n",
    "    IN in_School_ID  INTEGER, IN in_Leader_Score INTEGER) \n",
    "    \n",
    "LANGUAGE SQL \n",
    "MODIFIES SQL DATA\n",
    "\n",
    "BEGIN\n",
    "    UPDATE \"CHICAGO_PUBLIC_SCHOOLS\"\n",
    "    SET \"LEADERS_SCORE\" = in_Leader_Score\n",
    "    WHERE \"SCHOOL_ID\" = in_School_ID;\n",
    "\n",
    "    IF in_Leader_Score >=  80 THEN \n",
    "        UPDATE \"CHICAGO_PUBLIC_SCHOOLS\"\n",
    "        SET \"LEADERS_ICON\" = 'Very_Strong'\n",
    "        WHERE \"SCHOOL_ID\" = in_School_ID;\n",
    "\n",
    "    ELSEIF in_Leader_Score>= 60 and in_Leader_Score <= 79  THEN\n",
    "        UPDATE \"CHICAGO_PUBLIC_SCHOOLS\"\n",
    "        SET \"LEADERS_ICON\" = 'Strong'\n",
    "        WHERE \"SCHOOL_ID\" = in_School_ID;\n",
    "\n",
    "    ELSEIF in_Leader_Score >=  40 and in_Leader_Score <= 59  THEN\n",
    "        UPDATE \"CHICAGO_PUBLIC_SCHOOLS\"\n",
    "        SET \"LEADERS_ICON\" = 'Average'\n",
    "        WHERE \"SCHOOL_ID\" = in_School_ID;\n",
    "\n",
    "    ELSEIF in_Leader_Score >=  20 and in_Leader_Score <= 39  THEN\n",
    "        UPDATE \"CHICAGO_PUBLIC_SCHOOLS\"\n",
    "        SET \"LEADERS_ICON\" = 'Weak'\n",
    "        WHERE \"SCHOOL_ID\" = in_School_ID;\n",
    "\n",
    "    ELSEIF in_Leader_Score <=  20 THEN\n",
    "        UPDATE \"CHICAGO_PUBLIC_SCHOOLS\"\n",
    "        SET \"LEADERS_ICON\" = 'Very Weak'\n",
    "        WHERE \"SCHOOL_ID\" = in_School_ID;\n",
    "    ELSE\n",
    "    \n",
    "        ROLLBACK WORK;\n",
    "    \n",
    "    END IF;\n",
    "        COMMIT WORK;\n",
    "END \n"
   ]
  },
  {
   "cell_type": "code",
   "execution_count": null,
   "id": "54be2d4d-265e-41e5-8e8e-3f3d8aa3d434",
   "metadata": {},
   "outputs": [],
   "source": []
  }
 ],
 "metadata": {
  "kernelspec": {
   "display_name": "Python",
   "language": "python",
   "name": "conda-env-python-py"
  },
  "language_info": {
   "codemirror_mode": {
    "name": "ipython",
    "version": 3
   },
   "file_extension": ".py",
   "mimetype": "text/x-python",
   "name": "python",
   "nbconvert_exporter": "python",
   "pygments_lexer": "ipython3",
   "version": "3.7.12"
  }
 },
 "nbformat": 4,
 "nbformat_minor": 5
}
